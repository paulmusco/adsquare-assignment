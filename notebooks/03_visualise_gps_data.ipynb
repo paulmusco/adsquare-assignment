{
 "cells": [
  {
   "cell_type": "code",
   "execution_count": 4,
   "metadata": {},
   "outputs": [],
   "source": [
    "# Import modules\n",
    "\n",
    "import pandas as pd\n",
    "import numpy as np\n",
    "from datetime import datetime\n",
    "\n",
    "from shapely import wkt\n",
    "import matplotlib.pyplot as plt\n",
    "%matplotlib inline\n",
    "\n",
    "from geodaisy import GeoObject\n",
    "from geojson import Point, Feature, FeatureCollection, dump\n",
    "\n",
    "pd.set_option('display.max_columns', None)"
   ]
  },
  {
   "cell_type": "markdown",
   "metadata": {},
   "source": [
    "Import GPS data:"
   ]
  },
  {
   "cell_type": "code",
   "execution_count": 5,
   "metadata": {},
   "outputs": [
    {
     "data": {
      "text/html": [
       "<div>\n",
       "<style scoped>\n",
       "    .dataframe tbody tr th:only-of-type {\n",
       "        vertical-align: middle;\n",
       "    }\n",
       "\n",
       "    .dataframe tbody tr th {\n",
       "        vertical-align: top;\n",
       "    }\n",
       "\n",
       "    .dataframe thead th {\n",
       "        text-align: right;\n",
       "    }\n",
       "</style>\n",
       "<table border=\"1\" class=\"dataframe\">\n",
       "  <thead>\n",
       "    <tr style=\"text-align: right;\">\n",
       "      <th></th>\n",
       "      <th>date</th>\n",
       "      <th>store_name</th>\n",
       "      <th>store_id</th>\n",
       "      <th>device_id</th>\n",
       "      <th>gps_location</th>\n",
       "    </tr>\n",
       "  </thead>\n",
       "  <tbody>\n",
       "    <tr>\n",
       "      <th>0</th>\n",
       "      <td>1609535794000</td>\n",
       "      <td>McDonald's</td>\n",
       "      <td>place_25</td>\n",
       "      <td>6790</td>\n",
       "      <td>POINT (13.5471486 52.4318503)</td>\n",
       "    </tr>\n",
       "    <tr>\n",
       "      <th>1</th>\n",
       "      <td>1609517160000</td>\n",
       "      <td>McDonald's</td>\n",
       "      <td>place_29</td>\n",
       "      <td>13577</td>\n",
       "      <td>POINT (13.388066 52.519994)</td>\n",
       "    </tr>\n",
       "    <tr>\n",
       "      <th>2</th>\n",
       "      <td>1609495691000</td>\n",
       "      <td>Rewe</td>\n",
       "      <td>place_141</td>\n",
       "      <td>8549</td>\n",
       "      <td>POINT (13.2439761 52.6149546)</td>\n",
       "    </tr>\n",
       "    <tr>\n",
       "      <th>3</th>\n",
       "      <td>1609520578000</td>\n",
       "      <td>McDonald's</td>\n",
       "      <td>place_25</td>\n",
       "      <td>9288</td>\n",
       "      <td>POINT (13.54691 52.43191899999999)</td>\n",
       "    </tr>\n",
       "    <tr>\n",
       "      <th>4</th>\n",
       "      <td>1609513267000</td>\n",
       "      <td>McDonald's</td>\n",
       "      <td>place_18</td>\n",
       "      <td>7144</td>\n",
       "      <td>POINT (13.59309 52.44798)</td>\n",
       "    </tr>\n",
       "  </tbody>\n",
       "</table>\n",
       "</div>"
      ],
      "text/plain": [
       "            date  store_name   store_id  device_id  \\\n",
       "0  1609535794000  McDonald's   place_25       6790   \n",
       "1  1609517160000  McDonald's   place_29      13577   \n",
       "2  1609495691000        Rewe  place_141       8549   \n",
       "3  1609520578000  McDonald's   place_25       9288   \n",
       "4  1609513267000  McDonald's   place_18       7144   \n",
       "\n",
       "                         gps_location  \n",
       "0       POINT (13.5471486 52.4318503)  \n",
       "1         POINT (13.388066 52.519994)  \n",
       "2       POINT (13.2439761 52.6149546)  \n",
       "3  POINT (13.54691 52.43191899999999)  \n",
       "4           POINT (13.59309 52.44798)  "
      ]
     },
     "execution_count": 5,
     "metadata": {},
     "output_type": "execute_result"
    }
   ],
   "source": [
    "gps_flags = pd.read_csv('../results/combined_sample_flags.csv')\n",
    "gps_flags.head()"
   ]
  },
  {
   "cell_type": "code",
   "execution_count": 6,
   "metadata": {},
   "outputs": [],
   "source": [
    "gps_flags['gps_location'] = gps_flags['gps_location'].apply(wkt.loads)"
   ]
  },
  {
   "cell_type": "code",
   "execution_count": 8,
   "metadata": {},
   "outputs": [
    {
     "data": {
      "text/plain": [
       "Text(0.5, 1.0, 'GPS locations within stores (sample dataset)')"
      ]
     },
     "execution_count": 8,
     "metadata": {},
     "output_type": "execute_result"
    },
    {
     "data": {
      "image/png": "[encoded data removed]",
      "text/plain": [
       "<Figure size 1080x720 with 1 Axes>"
      ]
     },
     "metadata": {
      "needs_background": "light"
     },
     "output_type": "display_data"
    }
   ],
   "source": [
    "fig, ax = plt.subplots(figsize = (15,10))\n",
    "\n",
    "xs = [point.x for point in gps_flags['gps_location']]\n",
    "ys = [point.y for point in gps_flags['gps_location']]\n",
    "plt.scatter(xs, ys)\n",
    "plt.title('GPS locations within stores (sample dataset)')"
   ]
  },
  {
   "cell_type": "markdown",
   "metadata": {},
   "source": [
    "The plot above appears to show a rough outline of Berlin. To clarify, the next step is to visualise the data in Tableau..."
   ]
  },
  {
   "cell_type": "markdown",
   "metadata": {},
   "source": [
    "Use geodaisy to convert WKT data into GeoJSON:"
   ]
  },
  {
   "cell_type": "code",
   "execution_count": 89,
   "metadata": {},
   "outputs": [],
   "source": [
    "gps_geojson_list = []\n",
    "\n",
    "for polygon in gps_flags['gps_location']:\n",
    "    gps_geojson_list.append(GeoObject(polygon))\n",
    "gps_flags['gps_geojson'] = gps_geojson_list"
   ]
  },
  {
   "cell_type": "code",
   "execution_count": 90,
   "metadata": {},
   "outputs": [
    {
     "data": {
      "text/html": [
       "<div>\n",
       "<style scoped>\n",
       "    .dataframe tbody tr th:only-of-type {\n",
       "        vertical-align: middle;\n",
       "    }\n",
       "\n",
       "    .dataframe tbody tr th {\n",
       "        vertical-align: top;\n",
       "    }\n",
       "\n",
       "    .dataframe thead th {\n",
       "        text-align: right;\n",
       "    }\n",
       "</style>\n",
       "<table border=\"1\" class=\"dataframe\">\n",
       "  <thead>\n",
       "    <tr style=\"text-align: right;\">\n",
       "      <th></th>\n",
       "      <th>date</th>\n",
       "      <th>store_name</th>\n",
       "      <th>store_id</th>\n",
       "      <th>device_id</th>\n",
       "      <th>gps_location</th>\n",
       "      <th>gps_geojson</th>\n",
       "    </tr>\n",
       "  </thead>\n",
       "  <tbody>\n",
       "    <tr>\n",
       "      <th>0</th>\n",
       "      <td>1609504091000</td>\n",
       "      <td>McDonald's</td>\n",
       "      <td>place_28</td>\n",
       "      <td>838</td>\n",
       "      <td>POINT (13.3863778 52.52029889999999)</td>\n",
       "      <td>{'type': 'Point', 'coordinates': (13.3863778, ...</td>\n",
       "    </tr>\n",
       "    <tr>\n",
       "      <th>1</th>\n",
       "      <td>1609526776000</td>\n",
       "      <td>Rewe</td>\n",
       "      <td>place_198</td>\n",
       "      <td>1597</td>\n",
       "      <td>POINT (13.3697391 52.5239484)</td>\n",
       "      <td>{'type': 'Point', 'coordinates': (13.3697391, ...</td>\n",
       "    </tr>\n",
       "    <tr>\n",
       "      <th>2</th>\n",
       "      <td>1609514684000</td>\n",
       "      <td>McDonald's</td>\n",
       "      <td>place_14</td>\n",
       "      <td>1620</td>\n",
       "      <td>POINT (13.3078575 52.6356204)</td>\n",
       "      <td>{'type': 'Point', 'coordinates': (13.3078575, ...</td>\n",
       "    </tr>\n",
       "    <tr>\n",
       "      <th>3</th>\n",
       "      <td>1609459427000</td>\n",
       "      <td>Mercedes</td>\n",
       "      <td>place_233</td>\n",
       "      <td>2022</td>\n",
       "      <td>POINT (13.439094 52.505726)</td>\n",
       "      <td>{'type': 'Point', 'coordinates': (13.439094, 5...</td>\n",
       "    </tr>\n",
       "    <tr>\n",
       "      <th>4</th>\n",
       "      <td>1609508741000</td>\n",
       "      <td>Kaufland</td>\n",
       "      <td>place_215</td>\n",
       "      <td>2317</td>\n",
       "      <td>POINT (13.2192194 52.537559)</td>\n",
       "      <td>{'type': 'Point', 'coordinates': (13.2192194, ...</td>\n",
       "    </tr>\n",
       "  </tbody>\n",
       "</table>\n",
       "</div>"
      ],
      "text/plain": [
       "            date  store_name   store_id  device_id  \\\n",
       "0  1609504091000  McDonald's   place_28        838   \n",
       "1  1609526776000        Rewe  place_198       1597   \n",
       "2  1609514684000  McDonald's   place_14       1620   \n",
       "3  1609459427000    Mercedes  place_233       2022   \n",
       "4  1609508741000    Kaufland  place_215       2317   \n",
       "\n",
       "                           gps_location  \\\n",
       "0  POINT (13.3863778 52.52029889999999)   \n",
       "1         POINT (13.3697391 52.5239484)   \n",
       "2         POINT (13.3078575 52.6356204)   \n",
       "3           POINT (13.439094 52.505726)   \n",
       "4          POINT (13.2192194 52.537559)   \n",
       "\n",
       "                                         gps_geojson  \n",
       "0  {'type': 'Point', 'coordinates': (13.3863778, ...  \n",
       "1  {'type': 'Point', 'coordinates': (13.3697391, ...  \n",
       "2  {'type': 'Point', 'coordinates': (13.3078575, ...  \n",
       "3  {'type': 'Point', 'coordinates': (13.439094, 5...  \n",
       "4  {'type': 'Point', 'coordinates': (13.2192194, ...  "
      ]
     },
     "execution_count": 90,
     "metadata": {},
     "output_type": "execute_result"
    }
   ],
   "source": [
    "gps_flags.head()"
   ]
  },
  {
   "cell_type": "code",
   "execution_count": 91,
   "metadata": {},
   "outputs": [],
   "source": [
    "# gps_flags['date'] = pd.to_datetime(gps_flags['date'], unit='ms').dt.normalize()"
   ]
  },
  {
   "cell_type": "markdown",
   "metadata": {},
   "source": [
    "Decided against changing the 'date' field to datetime, as it can cause problems with JSON serialisation."
   ]
  },
  {
   "cell_type": "markdown",
   "metadata": {},
   "source": [
    "To avoid this it is possible to add 'default=str' to the 'dump' command in the following coding section:"
   ]
  },
  {
   "cell_type": "markdown",
   "metadata": {},
   "source": [
    "Use geojson to export the DF to a GeoJSON file, which enables visualisation in Tableau:"
   ]
  },
  {
   "cell_type": "code",
   "execution_count": null,
   "metadata": {},
   "outputs": [],
   "source": [
    "gps_features = []\n",
    "\n",
    "for date, name, store, device, point in zip(\n",
    "    gps_flags['date'], gps_flags['store_name'], gps_flags['store_id'], gps_flags['device_id'], gps_flags['gps_geojson']):\n",
    "    gps_features.append(Feature(geometry=point, properties={'date': date, 'store_name': name, 'store_id': store, 'device_id': device}))\n",
    "    gps_feature_collection = FeatureCollection(gps_features)\n",
    "    with open(f'../results/gps_sample_flags.geojson', 'w') as f:\n",
    "        dump(gps_feature_collection, f)"
   ]
  },
  {
   "cell_type": "markdown",
   "metadata": {},
   "source": [
    "Link to Tableau visualisation - https://public.tableau.com/profile/paul.musco#!/vizhome/adsquare_sample_gps_flags/Sheet1"
   ]
  },
  {
   "cell_type": "code",
   "execution_count": null,
   "metadata": {},
   "outputs": [],
   "source": []
  }
 ],
 "metadata": {
  "kernelspec": {
   "display_name": "Python 3",
   "language": "python",
   "name": "python3"
  },
  "language_info": {
   "codemirror_mode": {
    "name": "ipython",
    "version": 3
   },
   "file_extension": ".py",
   "mimetype": "text/x-python",
   "name": "python",
   "nbconvert_exporter": "python",
   "pygments_lexer": "ipython3",
   "version": "3.7.1"
  }
 },
 "nbformat": 4,
 "nbformat_minor": 4
}
